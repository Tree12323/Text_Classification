{
 "cells": [
  {
   "cell_type": "code",
   "execution_count": null,
   "id": "6d300379-2421-4941-b5a1-b5078f4364f3",
   "metadata": {},
   "outputs": [],
   "source": [
    "import numpy as np\n",
    "import pandas as pd\n",
    "import datatable as dt\n",
    "import random, time, gc, copy\n",
    "\n",
    "from sklearn.model_selection import train_test_split, KFold, StratifiedKFold\n",
    "from sklearn.feature_extraction.text import TfidfVectorizer\n",
    "from sklearn.svm import LinearSVC\n",
    "from sklearn.metrics import f1_score\n",
    "\n",
    "from tqdm import tqdm\n",
    "\n",
    "import fasttext"
   ]
  },
  {
   "cell_type": "code",
   "execution_count": null,
   "id": "9cef91b8-9916-499f-8138-803c89110590",
   "metadata": {},
   "outputs": [],
   "source": [
    "train_df = dt.fread('../DataSet/train_set.csv', sep='\\t').to_pandas()\n",
    "test_df = dt.fread('../DataSet/test_a.csv', sep='\\t').to_pandas()\n",
    "train_df['label_ft'] = '__label__' + train_df['label'].astype(str)\n",
    "train_df[['text', 'label_ft']].to_csv('../DataSet/FT_train.csv', index=None, sep='\\t')"
   ]
  },
  {
   "cell_type": "code",
   "execution_count": null,
   "id": "f05678ff-d4ac-4bf6-8703-e1a44cb860e9",
   "metadata": {},
   "outputs": [],
   "source": [
    "def my_gridsearch_cv(df, param_grid, kfold=10):\n",
    "    \n",
    "    skf=StratifiedKFold(n_splits=kfold, shuffle=True, random_state=42)\n",
    "\n",
    "    params_combination = get_gridsearch_params(param_grid) # 获取参数的各种排列组合\n",
    "\n",
    "    best_score = 0.0\n",
    "    best_params = dict()\n",
    "    for params in tqdm(params_combination):\n",
    "        avg_score = get_KFold_scores(df, params, skf)\n",
    "        if avg_score > best_score:\n",
    "            best_score = avg_score\n",
    "            best_params = copy.deepcopy(params)\n",
    "\n",
    "    return best_score, best_params"
   ]
  },
  {
   "cell_type": "code",
   "execution_count": null,
   "id": "f4f02af7-094b-4fbc-b45c-14c65dcb9fd5",
   "metadata": {},
   "outputs": [],
   "source": [
    "def get_gridsearch_params(param_grid):\n",
    "    params_combination = [dict()]  # 用于存放所有可能的参数组合\n",
    "    for k, v_list in param_grid.items():\n",
    "        tmp = [{k: v} for v in v_list]\n",
    "        n = len(params_combination)\n",
    "        # params_combination = params_combination*len(tmp)  # 浅拷贝，有问题\n",
    "        copy_params = [copy.deepcopy(params_combination) for _ in range(len(tmp))] \n",
    "        params_combination = sum(copy_params, [])\n",
    "        _ = [params_combination[i*n+k].update(tmp[i]) for k in range(n) for i in range(len(tmp))]\n",
    "    return params_combination"
   ]
  },
  {
   "cell_type": "code",
   "execution_count": null,
   "id": "d696486d-92fb-4afb-91fc-40d213dfe85b",
   "metadata": {},
   "outputs": [],
   "source": [
    "def get_KFold_scores(train_df, params, skf):\n",
    "    scores = []\n",
    "    for train_index, test_index in skf.split(train_df['text'], train_df['label_ft']):\n",
    "        train_df[['text', 'label_ft']].iloc[train_index].to_csv('../DataSet/FT_train.csv', index=None, sep='\\t')\n",
    "        model = fasttext.train_supervised('../DataSet/FT_train.csv', **params)\n",
    "        # model.save_model('fasttext_model.pkl')\n",
    "        # model_path = 'fastText_model.pkl'\n",
    "        # model= fasttext.load_model(model_path)\n",
    "        val_pred = [model.predict(x)[0][0].split('__')[-1] for x in train_df.iloc[test_index]['text']]\n",
    "        score = f1_score(train_df['label'].values[test_index].astype(str), val_pred, average='macro')\n",
    "        print(score, params)\n",
    "        scores.append(score)\n",
    "    print('mean score: ', np.mean(scores))\n",
    "    return np.mean(scores)"
   ]
  },
  {
   "cell_type": "code",
   "execution_count": null,
   "id": "2323dffb-bd32-4666-ad0f-0b61bcb801c9",
   "metadata": {},
   "outputs": [],
   "source": [
    "tuned_parameters = {\n",
    "    'lr': [0.5, 0.1, 0.05],\n",
    "    'wordNgrams': [1, 2, 3],\n",
    "    'epoch': [20, 25, 30],\n",
    "    'dim': [50, 100, 150],\n",
    "    'loss': ['hs'],\n",
    "    'minCount': [1],\n",
    "    'verbose': [2]\n",
    "}"
   ]
  },
  {
   "cell_type": "code",
   "execution_count": null,
   "id": "a6d44afc-3d4d-4447-aca5-09754f4ba8ec",
   "metadata": {},
   "outputs": [],
   "source": [
    "best_score, best_params = my_gridsearch_cv(train_df, tuned_parameters, 10)"
   ]
  },
  {
   "cell_type": "code",
   "execution_count": null,
   "id": "25f787d5-483d-4e7a-ab51-2c6e64138de8",
   "metadata": {},
   "outputs": [],
   "source": [
    "print(best_params)\n",
    "print(best_score)"
   ]
  }
 ],
 "metadata": {
  "kernelspec": {
   "display_name": "Python 3",
   "language": "python",
   "name": "python3"
  },
  "language_info": {
   "codemirror_mode": {
    "name": "ipython",
    "version": 3
   },
   "file_extension": ".py",
   "mimetype": "text/x-python",
   "name": "python",
   "nbconvert_exporter": "python",
   "pygments_lexer": "ipython3",
   "version": "3.7.10"
  }
 },
 "nbformat": 4,
 "nbformat_minor": 5
}
