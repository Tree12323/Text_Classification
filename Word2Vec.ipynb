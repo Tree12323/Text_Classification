{
 "cells": [
  {
   "cell_type": "code",
   "execution_count": null,
   "id": "12f4282a-77bc-4214-90fc-b66aad3b0f3d",
   "metadata": {},
   "outputs": [],
   "source": [
    "import numpy as np\n",
    "import pandas as pd\n",
    "import datatable as dt\n",
    "import random, time, gc, copy, logging, os\n",
    "import gensim\n",
    "from gensim.models import Word2Vec"
   ]
  },
  {
   "cell_type": "code",
   "execution_count": null,
   "id": "1600c6f9-c44a-439b-a194-1a612cd79302",
   "metadata": {},
   "outputs": [],
   "source": [
    "train_df = dt.fread('/home/liuchh/kaggle/input/train_set.csv', sep='\\t').to_pandas()\n",
    "test_df = dt.fread('/home/liuchh/kaggle/input/test_a.csv', sep='\\t').to_pandas()"
   ]
  },
  {
   "cell_type": "code",
   "execution_count": null,
   "id": "ede7a943-0023-4ad1-bdd8-4d079cf4599b",
   "metadata": {},
   "outputs": [],
   "source": [
    "all_data = pd.concat([train_df['text'], test_df['text']])\n",
    "file_name = '/home/liuchh/kaggle/input/word2vec.bin'\n",
    "if not os.path.exists(file_name):\n",
    "    model = Word2Vec(\n",
    "        [[word for word in document.split(' ')] for document in all_data.values],\n",
    "        size=200,\n",
    "        window=5,\n",
    "        iter=10,\n",
    "        workers=32,\n",
    "        seed=2021,\n",
    "        min_count=2\n",
    "    )\n",
    "    model.save(file_name)\n",
    "else:\n",
    "    model = Word2Vec.load(file_name)\n",
    "print('Add word2vec finished ......')"
   ]
  }
 ],
 "metadata": {
  "kernelspec": {
   "display_name": "Python 3",
   "language": "python",
   "name": "python3"
  },
  "language_info": {
   "codemirror_mode": {
    "name": "ipython",
    "version": 3
   },
   "file_extension": ".py",
   "mimetype": "text/x-python",
   "name": "python",
   "nbconvert_exporter": "python",
   "pygments_lexer": "ipython3",
   "version": "3.7.10"
  }
 },
 "nbformat": 4,
 "nbformat_minor": 5
}
